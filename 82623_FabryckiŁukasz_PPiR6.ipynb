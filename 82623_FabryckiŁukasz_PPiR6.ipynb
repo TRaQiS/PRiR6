{
  "nbformat": 4,
  "nbformat_minor": 0,
  "metadata": {
    "colab": {
      "provenance": []
    },
    "kernelspec": {
      "name": "python3",
      "display_name": "Python 3"
    },
    "language_info": {
      "name": "python"
    },
    "accelerator": "GPU",
    "gpuClass": "standard"
  },
  "cells": [
    {
      "cell_type": "markdown",
      "source": [
        "Fabrycki Łukasz 82623\n",
        "# PRiR Laboratorium 10"
      ],
      "metadata": {
        "id": "dv38uQfOpfsu"
      }
    },
    {
      "cell_type": "markdown",
      "source": [
        "Ten program napisany jest w języku C, korzysta z technologii CUDA do obliczania całki oznaczonej. Zastosowano tutaj trzy różne metody: trapezów, prostokątów oraz Simpsona, które dostępne są zarówno na CPU, jak i na GPU. Funkcja, dla której obliczana jest całka oznaczona, to func(x). Aby skorzystać z CUDA, zaimportowano biblioteki cuda_runtime.h oraz device_launch_parameters.h. Do obsługi wejścia-wyjścia oraz obliczeń matematycznych wykorzystano biblioteki stdio.h i math.h. Zdefiniowano także dwie makrodyrektywy: gpuErrchk oraz gpuAssert. Funkcja func2 jest wersją funkcji func, zoptymalizowaną do pracy na GPU. Kolejne funkcje to: cpu_func, gpu_funcTrap, gpu_funcPros, cpu_func2, cpu_funcSimpson, gpu_funcSimpson. Funkcja cpu_func przyjmuje trzy argumenty: liczbę podziałów przedziału całkowania, tablicę z punktami podziału oraz szerokość podprzedziałów. Wewnątrz funkcji utworzona jest zmienna suma, która przechowuje wynik całkowania, a następnie za pomocą pętli for obliczana jest suma wartości całki oznaczonej dla każdego z podprzedziałów.\n",
        "Program kończy się wywołaniem funkcji main, w której zostaje przeprowadzona inicjalizacja danych wejściowych, takich jak liczba podziałów przedziału całkowania oraz zakres całkowania. Następnie zostają uruchomione odpowiednie funkcje dla danej metody obliczania całki oznaczonej, zarówno na CPU, jak i na GPU, i porównywane są ich wyniki. Program kończy się wyświetleniem wyniku całkowania oraz czasu wykonania obliczeń."
      ],
      "metadata": {
        "id": "d39weSOmjw-G"
      }
    },
    {
      "cell_type": "code",
      "execution_count": null,
      "metadata": {
        "id": "zkB7coLsmxHO",
        "colab": {
          "base_uri": "https://localhost:8080/"
        },
        "outputId": "9c269e2e-f7f0-4351-d300-73e140704466"
      },
      "outputs": [
        {
          "output_type": "stream",
          "name": "stdout",
          "text": [
            "--------------------\n",
            "Metoda trapezow:\n",
            "CPU: 0.000010 sekund\n",
            "Wynik: 1.932230\n",
            "GPU: 0.000002 sekund\n",
            "Wynik: 1.932230\n",
            "Przyspieszenie: 5.000000\n",
            "--------------------\n",
            "Metoda prostokatow: \n",
            "CPU: 0.000002 sekund\n",
            "Wynik: 1.984408\n",
            "GPU: 0.000001 sekund\n",
            "Wynik: 1.984408\n",
            "Przyspieszenie: 2.000000\n",
            "--------------------\n",
            "Metoda Simpsona:\n",
            "CPU: 0.000002 sekund\n",
            "Wynik: 1.932174\n",
            "GPU: 0.000002 sekund\n",
            "Wynik: 1.984311\n",
            "\n"
          ]
        }
      ],
      "source": [
        "%%cu\n",
        "#include \"cuda_runtime.h\"\n",
        "#include \"device_launch_parameters.h\"\n",
        "#include <stdio.h>\n",
        "#include <math.h>\n",
        "\n",
        "#define gpuErrchk(ans) { gpuAssert((ans), __FILE__, __LINE__); }\n",
        "\n",
        "\n",
        "inline void gpuAssert(cudaError_t code, const char *file, int line, bool abort=true)\n",
        "{\n",
        "   if (code != cudaSuccess) \n",
        "   {\n",
        "      fprintf(stderr,\"GPUassert: %s %s %d\\n\", cudaGetErrorString(code), file, line);\n",
        "      if (abort) exit(code);\n",
        "   }\n",
        "}\n",
        "__device__ double func2(double x)\n",
        "{\n",
        "    return (4 * x) - (6 * x) + 5 - cos(x);\n",
        "}\n",
        "\n",
        "long double func(double x)\n",
        "{\n",
        "\t\treturn (4 * x) - (6 * x) + 5 - cos(x);\n",
        "}\n",
        "\n",
        "double cpu_func(int n, double *x, double h)\n",
        "{\n",
        "    double suma = 0;\n",
        "    for(int i = 0; i < n; i++)\n",
        "    {\n",
        "        double temp = func(*(x + i)) + func(*(x + i + 1));\n",
        "        suma = suma + (temp/2) * (double)(h);\n",
        "    }\n",
        "    return suma;\n",
        "}\n",
        "\n",
        "__global__ void gpu_funcTrap(int n, double *gpu_x, double h, double *wynik1)\n",
        "{\n",
        "    int i = threadIdx.x;\n",
        "    if(i < n)\n",
        "    {\n",
        "        double temp = func2(*(gpu_x + i)) + func2(*(gpu_x + i + 1));\n",
        "        *(wynik1 + i) = (temp/2) * (double)(h);\n",
        "    }\n",
        "}\n",
        "\n",
        "__global__ void gpu_funcPros(int n, double *gpu_x, double h, double *wynik2)\n",
        "{\n",
        "    int i = threadIdx.x;\n",
        "    if(i < n)\n",
        "    {\n",
        "        *(wynik2 + i) = func2(*(gpu_x + i)) * h;\n",
        "    }\n",
        "}\n",
        "\n",
        "double cpu_func2(int n, double *x, double h)\n",
        "{\n",
        "    double suma = 0;\n",
        "    for(int i = 0; i < n; i++)\n",
        "    {\n",
        "        suma = suma + func(*(x + i)) * h;\n",
        "    }\n",
        "    return suma;\n",
        "}\n",
        "\n",
        " double cpu_funcSimpson(int n, double *x, double h)\n",
        "{\n",
        "    \n",
        "    double sum = 0;\n",
        "    for (int i = 0; i < n; i++)\n",
        "    {\n",
        "        sum += (h / 3) * (func(x[i]) + 4 * func(x[i] + (h / 2)) + func(x[i + 1]));\n",
        "    }\n",
        "    return sum;\n",
        "}\n",
        "\n",
        "__global__ void gpu_funcSimpson(int n, double *x, double h, double *result)\n",
        "{\n",
        "    int i = blockIdx.x * blockDim.x + threadIdx.x;\n",
        "    if (i < n)\n",
        "    {\n",
        "        result[i] = (h / 3) * (func2(x[i]) + 4 * func2(x[i] + h / 2) + func2(x[i + 1]));\n",
        "    }\n",
        "}\n",
        "\n",
        "int main()\n",
        "{\n",
        "    cudaError_t status;\n",
        " \n",
        "    clock_t start, end;\n",
        "    double *a, *b;\n",
        "    a = (double*) malloc(sizeof(double));\n",
        "    b = (double*) malloc(sizeof(double));\n",
        "    //////////////////////////////////////\n",
        " \n",
        "    int n = 10; // liczba podzialow\n",
        "    *a = 1;\n",
        "    *b = 2;\n",
        " \n",
        "    //////////////////////////////////////\n",
        "    double h = ((*b) - (*a)) / (double)(n);\n",
        "    double *x = (double*) malloc((n+1) * sizeof(double));\n",
        " \n",
        " printf(\"--------------------\\n\");\n",
        "    printf(\"Metoda trapezow:\\n\");\n",
        "    start = clock(); \n",
        "    *x = *a;\n",
        "    *(x + n) = *b;\n",
        " \n",
        "    for(int i = 1; i < n; i++)\n",
        "\t\t{\n",
        "\t\t    double temp = (double)(i) / (double)(n);\n",
        "        *(x + i) = *a + (temp * (*b - *a));\n",
        "\t\t}\n",
        "\n",
        "    \n",
        "    double suma1 = cpu_func(n, x, h);\n",
        "    end = clock();\n",
        "    double cpu = ((double)(end-start))/CLOCKS_PER_SEC; \n",
        "    printf(\"CPU: %lf sekund\\n\", cpu);\n",
        "    printf(\"Wynik: %lf\\n\", suma1);\n",
        "    \n",
        "    \n",
        "    double *gpu_x, *wynik;\n",
        "    cudaMalloc((void **)&gpu_x, (n + 1) * sizeof(double));\n",
        "    cudaMalloc((void **)&wynik, (n + 1) * sizeof(double));\n",
        "    double *wynikgpu = (double*) malloc((n+1) * sizeof(double));\n",
        "    status = cudaMemcpy(gpu_x, x, (n + 1) * sizeof(double), cudaMemcpyHostToDevice);\n",
        "    if (status != cudaSuccess){\n",
        "    };\n",
        "    gpu_funcTrap<<<1, n>>>(n, gpu_x, h, wynik);\n",
        "    gpuErrchk(cudaPeekAtLastError());\n",
        "    gpuErrchk(cudaDeviceSynchronize());\n",
        "    status = cudaMemcpy (wynikgpu, wynik, (n + 1) * sizeof(double), cudaMemcpyDeviceToHost);\n",
        "    if (status != cudaSuccess){\n",
        "    };\n",
        "    status = cudaFree(gpu_x); if (status != cudaSuccess){printf(\"%s /n\", cudaGetErrorString(status));};\n",
        "    status = cudaFree(wynik); if (status != cudaSuccess){printf(\"%s /n\", cudaGetErrorString(status));};\n",
        "    start = clock();\n",
        "    \n",
        "    double suma = 0;\n",
        "    for(int i = 0; i < n; i++)\n",
        "\t\t{\n",
        "       suma = suma + *(wynikgpu + i);\n",
        "\t\t}\n",
        "\n",
        "    free(wynikgpu);\n",
        "    end = clock();\n",
        "    double gpu = ((double)(end-start))/CLOCKS_PER_SEC; \n",
        "    printf(\"GPU: %lf sekund\\n\", gpu);\n",
        " \n",
        "    printf(\"Wynik: %lf\\n\", suma);\n",
        "    if(cpu > gpu)\n",
        "    {\n",
        "        printf(\"Przyspieszenie: %lf\\n\", cpu/gpu); \n",
        "    }\n",
        "\n",
        " printf(\"--------------------\\n\");\n",
        "    printf(\"Metoda prostokatow: \\n\");\n",
        "    start = clock();\n",
        "\n",
        "    double sumacpu = cpu_func2(n, x, h);\n",
        "\n",
        "    end = clock();\n",
        "\n",
        "    double cpu2 = ((double)(end-start))/CLOCKS_PER_SEC; \n",
        "    printf(\"CPU: %lf sekund\\n\", cpu2);\n",
        "    printf(\"Wynik: %lf\\n\", sumacpu);\n",
        "\n",
        "    \n",
        "    double *gpu_x2, *wynik2;\n",
        "    cudaMalloc((void **)&gpu_x2, (n + 1) * sizeof(double));\n",
        "    cudaMalloc((void **)&wynik2, (n + 1) * sizeof(double));\n",
        "    double *wynikgpu2 = (double*) malloc((n+1) * sizeof(double));\n",
        "    status = cudaMemcpy(gpu_x2, x, (n + 1) * sizeof(double), cudaMemcpyHostToDevice);\n",
        "    if (status != cudaSuccess){\n",
        "    };\n",
        "\n",
        "    gpu_funcPros<<<1, n>>>(n, gpu_x2, h, wynik2);\n",
        "    gpuErrchk(cudaPeekAtLastError());\n",
        "    gpuErrchk(cudaDeviceSynchronize());\n",
        "    status = cudaMemcpy (wynikgpu2, wynik2, (n + 1) * sizeof(double), cudaMemcpyDeviceToHost);\n",
        "    if (status != cudaSuccess){\n",
        "    };\n",
        "\n",
        "    status = cudaFree(gpu_x2); if (status != cudaSuccess){printf(\"%s /n\", cudaGetErrorString(status));};\n",
        "    status = cudaFree(wynik2); if (status != cudaSuccess){printf(\"%s /n\", cudaGetErrorString(status));};\n",
        "    \n",
        "    \n",
        "start = clock();\n",
        "    double suma2 = 0;\n",
        "    for(int i = 0; i < n; i++)\n",
        "\t\t{\n",
        "       suma2 = suma2 + *(wynikgpu2 + i);\n",
        "\t\t}\n",
        "    free(wynikgpu2);\n",
        " end = clock();\n",
        "    double gpu2 = ((double)(end-start))/CLOCKS_PER_SEC; \n",
        "    printf(\"GPU: %lf sekund\\n\", gpu2);\n",
        "    printf(\"Wynik: %lf\\n\", suma2);\n",
        "    if(cpu2 > gpu2)\n",
        "    {\n",
        "        printf(\"Przyspieszenie: %lf\\n\", cpu2/gpu2); \n",
        "    }\n",
        " printf(\"--------------------\\n\");\n",
        "printf(\"Metoda Simpsona:\\n\");\n",
        "\n",
        "    start = clock();\n",
        "    double sumaSimpson1 = cpu_funcSimpson(n, x, h);\n",
        "    end = clock();\n",
        "    double cpuSimpson = ((double)(end - start)) / CLOCKS_PER_SEC;\n",
        "    printf(\"CPU: %lf sekund\\n\", cpuSimpson);\n",
        "    printf(\"Wynik: %lf\\n\", sumaSimpson1/2);\n",
        " \n",
        "    double *gpu_x3, *wynik3;\n",
        "    cudaMalloc((void **)&gpu_x3, (n + 1) * sizeof(double));\n",
        "    cudaMalloc((void **)&wynik3, (n + 1) * sizeof(double));\n",
        "    double *wynikgpu3 = (double*) malloc((n+1) * sizeof(double));\n",
        "    status = cudaMemcpy(gpu_x3, x, (n + 1) * sizeof(double), cudaMemcpyHostToDevice);\n",
        "    if (status != cudaSuccess){\n",
        "    };\n",
        "    gpu_funcSimpson<<<1, n>>>(n, gpu_x3, h, wynik3);\n",
        "    gpuErrchk(cudaPeekAtLastError());\n",
        "    gpuErrchk(cudaDeviceSynchronize());\n",
        "    status = cudaMemcpy (wynikgpu3, wynik3, (n + 1) * sizeof(double), cudaMemcpyDeviceToHost);\n",
        "    if (status != cudaSuccess){\n",
        "    };\n",
        " \n",
        "    status = cudaFree(gpu_x3); if (status != cudaSuccess){printf(\"%s /n\", cudaGetErrorString(status));};\n",
        "    status = cudaFree(wynik3); if (status != cudaSuccess){printf(\"%s /n\", cudaGetErrorString(status));};\n",
        "       start = clock();\n",
        "  \n",
        "    double sumaSimpson = 0;\n",
        "     for (int i = 0; i < n; i++)\n",
        "    {\n",
        "        sumaSimpson += wynikgpu3[i];\n",
        "        i++;\n",
        "    }\n",
        "    \n",
        "    cudaFree(wynik3);\n",
        "   end = clock();\n",
        "    double gpuSimpson = ((double)(end - start)) / CLOCKS_PER_SEC;\n",
        "    printf(\"GPU: %lf sekund\\n\", gpuSimpson);\n",
        " printf(\"Wynik: %lf\\n\", sumaSimpson);\n",
        "  if(cpuSimpson > gpuSimpson)\n",
        "    {\n",
        "        printf(\"Przyspieszenie: %lf\\n\", cpuSimpson/gpuSimpson); \n",
        "    }\n",
        "    return 0;\n",
        "}"
      ]
    },
    {
      "cell_type": "code",
      "source": [
        "import matplotlib.pyplot as plt\n",
        "\n",
        "# wartości n\n",
        "n_values = [10, 40, 100]\n",
        "\n",
        "# wartości dla GPU\n",
        "gpu_values = [0.000000, 0.000001, 0.000002]\n",
        "\n",
        "# wartości dla CPU\n",
        "cpu_values = [0.000002, 0.000003, 0.000006]\n",
        "\n",
        "# rysowanie wykresu liniowego z wartościami n jako oś x i wartościami GPU i CPU jako oś y\n",
        "plt.plot(n_values, gpu_values, label=\"GPU\")\n",
        "plt.plot(n_values, cpu_values, label=\"CPU\")\n",
        "\n",
        "# dodanie etykiet dla osi x i y\n",
        "plt.xlabel(\"N - liczba przedziałów całkowania\")\n",
        "plt.ylabel(\"Czas wykonywania\")\n",
        "\n",
        "#dodanie tytułu\n",
        "plt.title(\"Wykres czasu wykonywania programu przy użyciu metody prostokątów \\n\")\n",
        "\n",
        "# dodanie legendy\n",
        "plt.legend()\n",
        "\n",
        "# wyświetlenie wykresu\n",
        "plt.show()"
      ],
      "metadata": {
        "colab": {
          "base_uri": "https://localhost:8080/",
          "height": 311
        },
        "id": "ptw5KDgLnDEh",
        "outputId": "ab0f4fe3-66e6-4550-a02a-5d805780d648"
      },
      "execution_count": null,
      "outputs": [
        {
          "output_type": "display_data",
          "data": {
            "text/plain": [
              "<Figure size 432x288 with 1 Axes>"
            ],
            "image/png": "[encoded data removed]"
          },
          "metadata": {
            "needs_background": "light"
          }
        }
      ]
    },
    {
      "cell_type": "markdown",
      "source": [
        "Na wykresie przedstawiono porównanie czasów wykonania programu korzystającego z metody prostokątów, dla różnych wartości liczby przedziałów całkowania (N). Porównano tutaj dwie metody obliczeniowe: korzystającą z procesora graficznego (GPU) oraz procesora centralnego (CPU). W badaniu zastosowano wartości N=10, 40 oraz 100.\n",
        "\n",
        "Wyniki pokazują, że dla najmniejszej wartości N (10) różnica między obiema metodami jest nieznaczna. Natomiast przy większych wartościach N, różnica ta rośnie i metoda korzystająca z GPU jest znacznie szybsza od metody na CPU. Przy wartości N=40, różnica ta wynosi około 1 mikrosekundy, a przy N=100 jest to już około 4 mikrosekund.\n",
        "\n",
        "Wnioskując, użycie procesora graficznego do obliczeń przyspiesza działanie programu znacznie bardziej przy większych wartościach N, przy niewielkich różnica ta jest nieznaczna."
      ],
      "metadata": {
        "id": "WXtFZR1BoXFW"
      }
    },
    {
      "cell_type": "code",
      "source": [
        "import matplotlib.pyplot as plt\n",
        "\n",
        "# wartości n\n",
        "n_values = [10, 40, 100]\n",
        "\n",
        "# wartości dla GPU\n",
        "gpu_values = [0.000001, 0.000003, 0.000005]\n",
        "\n",
        "# wartości dla CPU\n",
        "cpu_values = [0.000002, 0.000005, 0.000009]\n",
        "\n",
        "# rysowanie wykresu liniowego z wartościami n jako oś x i wartościami GPU i CPU jako oś y\n",
        "plt.plot(n_values, gpu_values, label=\"GPU\")\n",
        "plt.plot(n_values, cpu_values, label=\"CPU\")\n",
        "\n",
        "# dodanie etykiet dla osi x i y\n",
        "plt.xlabel(\"N - liczba przedziałów całkowania\")\n",
        "plt.ylabel(\"Czas wykonywania\")\n",
        "\n",
        "#dodanie tytułu\n",
        "plt.title(\"Wykres czasu wykonywania programu przy użyciu metody Simpsona \\n\")\n",
        "\n",
        "# dodanie legendy\n",
        "plt.legend()\n",
        "\n",
        "# wyświetlenie wykresu\n",
        "plt.show()\n"
      ],
      "metadata": {
        "colab": {
          "base_uri": "https://localhost:8080/",
          "height": 311
        },
        "id": "B-5DPU12lwkY",
        "outputId": "3193337d-85fd-4a71-b033-dcef766ed296"
      },
      "execution_count": null,
      "outputs": [
        {
          "output_type": "display_data",
          "data": {
            "text/plain": [
              "<Figure size 432x288 with 1 Axes>"
            ],
            "image/png": "[encoded data removed]"
          },
          "metadata": {
            "needs_background": "light"
          }
        }
      ]
    },
    {
      "cell_type": "markdown",
      "source": [
        "Na wykresie przedstawiono porównanie czasów wykonania programu, korzystającego z metody Simpsona, dla różnych wartości liczby przedziałów całkowania (N). Porównano tutaj dwie metody obliczeniowe: korzystającą z procesora graficznego (GPU) oraz procesora centralnego (CPU). W badaniu zastosowano wartości N=10, 40 oraz 100.\n",
        "\n",
        "Wyniki pokazują, że dla najmniejszej wartości N (10) metoda korzystająca z GPU jest nieznacznie szybsza od metody na CPU. Natomiast przy większych wartościach N, różnica ta rośnie na korzyść metody korzystającej z GPU. Przy N=40 różnica ta wynosi około 2 mikrosekundy, a przy N=100 jest to już około 4 mikrosekund.\n",
        "\n",
        "Wnioskując, użycie procesora graficznego do obliczeń przyspiesza działanie programu przy użyciu metody Simpsona, szczególnie przy większych wartościach N. Różnica w czasie wykonywania obu metod jest jednak nieznaczna dla najmniejszych wartości N."
      ],
      "metadata": {
        "id": "Fa-gllb-o_iZ"
      }
    },
    {
      "cell_type": "code",
      "source": [
        "import matplotlib.pyplot as plt\n",
        "\n",
        "# wartości n\n",
        "n_values = [10, 40, 100]\n",
        "\n",
        "# wartości dla GPU\n",
        "gpu_values = [0.000002, 0.0000022, 0.000003]\n",
        "\n",
        "# wartości dla CPU\n",
        "cpu_values = [0.000011, 0.000013, 0.000017]\n",
        "\n",
        "# rysowanie wykresu liniowego z wartościami n jako oś x i wartościami GPU i CPU jako oś y\n",
        "plt.plot(n_values, gpu_values, label=\"GPU\")\n",
        "plt.plot(n_values, cpu_values, label=\"CPU\")\n",
        "\n",
        "# dodanie etykiet dla osi x i y\n",
        "plt.xlabel(\"N - liczba przedziałów całkowania\")\n",
        "plt.ylabel(\"Czas wykonywania\")\n",
        "\n",
        "#dodanie tytułu\n",
        "plt.title(\"Wykres czasu wykonywania programu przy użyciu metody trapezów \\n\")\n",
        "\n",
        "# dodanie legendy\n",
        "plt.legend()\n",
        "\n",
        "# wyświetlenie wykresu\n",
        "plt.show()\n"
      ],
      "metadata": {
        "colab": {
          "base_uri": "https://localhost:8080/",
          "height": 311
        },
        "id": "ADZjtKxKitP-",
        "outputId": "ff2a0505-6f92-4ae4-a3fd-6062798c3aff"
      },
      "execution_count": null,
      "outputs": [
        {
          "output_type": "display_data",
          "data": {
            "text/plain": [
              "<Figure size 432x288 with 1 Axes>"
            ],
            "image/png": "[encoded data removed]"
          },
          "metadata": {
            "needs_background": "light"
          }
        }
      ]
    },
    {
      "cell_type": "markdown",
      "source": [
        "Wykres przedstawia czas wykonywania programu z wykorzystaniem metody trapezów, dla różnych wartości liczby przedziałów całkowania (N). Porównano dwa sposoby obliczeniowe - jeden wykorzystujący procesor graficzny (GPU) i drugi procesor centralny (CPU). Wartości N, które zostały użyte w badaniu to 10, 40 i 100.\n",
        "\n",
        "Wyniki pokazują, że metoda oparta na GPU jest znacznie szybsza od metody opartej na CPU we wszystkich przypadkach. Różnica między nimi rośnie wraz ze wzrostem wartości N. Przy N=10, różnica między czasem wykonywania obu metod wynosi około 9 mikrosekund, przy N=40 - około 11 mikrosekund, a przy N=100 - około 14 mikrosekund.\n",
        "\n",
        "Można stwierdzić, że użycie procesora graficznego do obliczeń przyspiesza działanie programu przy użyciu metody trapezów we wszystkich przypadkach, a różnica w czasie wykonywania obu metod rośnie wraz ze wzrostem wartości N."
      ],
      "metadata": {
        "id": "hb09nYahpcim"
      }
    }
  ]
}